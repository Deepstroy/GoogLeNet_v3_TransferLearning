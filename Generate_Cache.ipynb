{
  "nbformat": 4,
  "nbformat_minor": 0,
  "metadata": {
    "kernelspec": {
      "name": "python3",
      "display_name": "Python 3"
    },
    "language_info": {
      "codemirror_mode": {
        "name": "ipython",
        "version": 3
      },
      "file_extension": ".py",
      "mimetype": "text/x-python",
      "name": "python",
      "nbconvert_exporter": "python",
      "pygments_lexer": "ipython3",
      "version": "3.5.5"
    },
    "colab": {
      "name": "Generate_Cache.ipynb",
      "version": "0.3.2",
      "provenance": [],
      "toc_visible": true
    },
    "accelerator": "GPU"
  },
  "cells": [
    {
      "cell_type": "code",
      "metadata": {
        "id": "51idfJbYA6Aa",
        "colab_type": "code",
        "colab": {
          "base_uri": "https://localhost:8080/",
          "height": 52
        },
        "outputId": "65234d3d-55b4-4de4-c51a-9e94081e8d13"
      },
      "source": [
        "import tensorflow as tf\n",
        "import numpy as np\n",
        "import matplotlib.pyplot as plt\n",
        "import os\n",
        "\n",
        "!pip install tensorboardcolab\n",
        "import tensorboardcolab"
      ],
      "execution_count": 1,
      "outputs": [
        {
          "output_type": "stream",
          "text": [
            "Requirement already satisfied: tensorboardcolab in /usr/local/lib/python3.6/dist-packages (0.0.22)\n"
          ],
          "name": "stdout"
        },
        {
          "output_type": "stream",
          "text": [
            "Using TensorFlow backend.\n"
          ],
          "name": "stderr"
        }
      ]
    },
    {
      "cell_type": "markdown",
      "metadata": {
        "id": "4Yc6oFvdA6Aj",
        "colab_type": "text"
      },
      "source": [
        "# Load Cifar10 "
      ]
    },
    {
      "cell_type": "code",
      "metadata": {
        "id": "qFYd5q_yA6Al",
        "colab_type": "code",
        "colab": {
          "base_uri": "https://localhost:8080/",
          "height": 52
        },
        "outputId": "52bcc67e-da9e-4a8b-c4fa-126d237428ec"
      },
      "source": [
        "## load cifar10 dataset \n",
        "from keras.datasets import cifar10\n",
        "\n",
        "(x_train, y_train), (x_test, y_test) = cifar10.load_data()\n",
        "\n",
        "## reshape (None, 1) -> (None)\n",
        "y_train, y_test = [y.reshape([-1]) for y in [y_train, y_test]]\n",
        "\n",
        "## normalization \n",
        "x_train, x_test = [x for x in [x_train, x_test]]\n",
        "\n",
        "## N classㅡ\n",
        "n_classes = 10"
      ],
      "execution_count": 2,
      "outputs": [
        {
          "output_type": "stream",
          "text": [
            "Downloading data from https://www.cs.toronto.edu/~kriz/cifar-10-python.tar.gz\n",
            "170500096/170498071 [==============================] - 6s 0us/step\n"
          ],
          "name": "stdout"
        }
      ]
    },
    {
      "cell_type": "code",
      "metadata": {
        "id": "wGXpepQUA6Ap",
        "colab_type": "code",
        "colab": {
          "base_uri": "https://localhost:8080/",
          "height": 35
        },
        "outputId": "2ea36305-b2e3-4b84-e753-af17ae965078"
      },
      "source": [
        "y_test.shape"
      ],
      "execution_count": 3,
      "outputs": [
        {
          "output_type": "execute_result",
          "data": {
            "text/plain": [
              "(10000,)"
            ]
          },
          "metadata": {
            "tags": []
          },
          "execution_count": 3
        }
      ]
    },
    {
      "cell_type": "markdown",
      "metadata": {
        "id": "o5m2fGzuA6Aw",
        "colab_type": "text"
      },
      "source": [
        "# Graph"
      ]
    },
    {
      "cell_type": "code",
      "metadata": {
        "id": "6uI_uQfsA6Ax",
        "colab_type": "code",
        "colab": {}
      },
      "source": [
        "data_dir = './inception_model'\n",
        "path_pb = 'classify_image_graph_def.pb'\n",
        "path = os.path.join(data_dir, path_pb)\n",
        "graph = tf.Graph()\n",
        "\n",
        "with graph.as_default() :\n",
        "    #file 주소값\n",
        "    with tf.gfile.FastGFile(path, 'rb') as file:\n",
        "        graph_def  = tf.GraphDef()\n",
        "\n",
        "        #string으로 read함\n",
        "        graph_def.ParseFromString(file.read())\n",
        "        tf.import_graph_def(graph_def, name = '')\n",
        "    \n",
        "    #InputTensor\n",
        "    DecodeJpeg = graph.get_tensor_by_name(\"DecodeJpeg:0\")\n",
        "\n",
        "    #Get tensor pool_3/_reshape from models\n",
        "    flat_layer = graph.get_tensor_by_name(\"pool_3/_reshape:0\")\n"
      ],
      "execution_count": 0,
      "outputs": []
    },
    {
      "cell_type": "code",
      "metadata": {
        "id": "y38pi_ytG554",
        "colab_type": "code",
        "colab": {
          "base_uri": "https://localhost:8080/",
          "height": 126
        },
        "outputId": "592bf0d0-2e9f-4e8d-b347-bbd06d970a5c"
      },
      "source": [
        "from google.colab import drive\n",
        "drive.mount('/content/drive')"
      ],
      "execution_count": 5,
      "outputs": [
        {
          "output_type": "stream",
          "text": [
            "Go to this URL in a browser: https://accounts.google.com/o/oauth2/auth?client_id=947318989803-6bn6qk8qdgf4n4g3pfee6491hc0brc4i.apps.googleusercontent.com&redirect_uri=urn%3Aietf%3Awg%3Aoauth%3A2.0%3Aoob&scope=email%20https%3A%2F%2Fwww.googleapis.com%2Fauth%2Fdocs.test%20https%3A%2F%2Fwww.googleapis.com%2Fauth%2Fdrive%20https%3A%2F%2Fwww.googleapis.com%2Fauth%2Fdrive.photos.readonly%20https%3A%2F%2Fwww.googleapis.com%2Fauth%2Fpeopleapi.readonly&response_type=code\n",
            "\n",
            "Enter your authorization code:\n",
            "··········\n",
            "Mounted at /content/drive\n"
          ],
          "name": "stdout"
        }
      ]
    },
    {
      "cell_type": "markdown",
      "metadata": {
        "id": "U0vV-SPtA6A1",
        "colab_type": "text"
      },
      "source": [
        "# Generate cache"
      ]
    },
    {
      "cell_type": "code",
      "metadata": {
        "id": "9h19HCZkA6A2",
        "colab_type": "code",
        "colab": {}
      },
      "source": [
        "#extracted_feature\n",
        "import sys \n",
        "def show_progess(n_total, index):\n",
        "    sys.stdout.write('\\r Progess {}/{}'.format(n_total, index))\n",
        "    sys.stdout.flush()\n",
        "\n",
        "def extract_cache(graph, sess, DecodeJpeg, flat_layer, xs):\n",
        "    with graph.as_default() :  \n",
        "        caches = [] \n",
        "        for ind, x in enumerate(xs):\n",
        "            show_progess(len(xs), ind)\n",
        "            feed_dict = {DecodeJpeg : x}\n",
        "            cache = sess.run(flat_layer, feed_dict)\n",
        "            cache = np.squeeze(cache)\n",
        "            caches.append(cache)\n",
        "\n",
        "        train_caches = np.stack(caches)\n",
        "        return train_caches\n",
        "\n"
      ],
      "execution_count": 0,
      "outputs": []
    },
    {
      "cell_type": "markdown",
      "metadata": {
        "id": "9biNN4jKA6A6",
        "colab_type": "text"
      },
      "source": [
        "# Open Session"
      ]
    },
    {
      "cell_type": "code",
      "metadata": {
        "id": "SJTyqISGA6A7",
        "colab_type": "code",
        "colab": {}
      },
      "source": [
        "sess = tf.Session(graph=graph)"
      ],
      "execution_count": 0,
      "outputs": []
    },
    {
      "cell_type": "markdown",
      "metadata": {
        "id": "SRlmOM3gA6A-",
        "colab_type": "text"
      },
      "source": [
        "# Extract Cache from Test Dataset"
      ]
    },
    {
      "cell_type": "code",
      "metadata": {
        "id": "sncACYzGA6A_",
        "colab_type": "code",
        "colab": {
          "base_uri": "https://localhost:8080/",
          "height": 35
        },
        "outputId": "79da806e-c34b-4526-d4fc-c7c7e264e60d"
      },
      "source": [
        "test_caches = extract_cache(graph, sess, DecodeJpeg, flat_layer, x_test[:])"
      ],
      "execution_count": 9,
      "outputs": [
        {
          "output_type": "stream",
          "text": [
            " Progess 10000/9999"
          ],
          "name": "stdout"
        }
      ]
    },
    {
      "cell_type": "markdown",
      "metadata": {
        "id": "3Nodl94wA6BE",
        "colab_type": "text"
      },
      "source": [
        "# Extract Cache from Train Dataset"
      ]
    },
    {
      "cell_type": "code",
      "metadata": {
        "id": "W30VZFMaA6BG",
        "colab_type": "code",
        "colab": {
          "base_uri": "https://localhost:8080/",
          "height": 35
        },
        "outputId": "bec2596c-11e8-425f-e9ca-8f7e3e1bc365"
      },
      "source": [
        "train_caches = extract_cache(graph, sess, DecodeJpeg, flat_layer, x_train[:])"
      ],
      "execution_count": 10,
      "outputs": [
        {
          "output_type": "stream",
          "text": [
            " Progess 50000/49999"
          ],
          "name": "stdout"
        }
      ]
    },
    {
      "cell_type": "code",
      "metadata": {
        "id": "0acPq2NpA6BL",
        "colab_type": "code",
        "colab": {}
      },
      "source": [
        "np.save('test_caches', test_caches)\n",
        "np.save('train_caches', train_caches)\n"
      ],
      "execution_count": 0,
      "outputs": []
    },
    {
      "cell_type": "code",
      "metadata": {
        "id": "rtFhUdJYA6BO",
        "colab_type": "code",
        "colab": {
          "base_uri": "https://localhost:8080/",
          "height": 52
        },
        "outputId": "19d1d9a8-0181-45ad-a86c-abd42225f796"
      },
      "source": [
        "print(test_caches.shape)\n",
        "print(train_caches.shape)"
      ],
      "execution_count": 12,
      "outputs": [
        {
          "output_type": "stream",
          "text": [
            "(10000, 2048)\n",
            "(50000, 2048)\n"
          ],
          "name": "stdout"
        }
      ]
    },
    {
      "cell_type": "code",
      "metadata": {
        "id": "XKzUjI6FA6BT",
        "colab_type": "code",
        "colab": {}
      },
      "source": [
        ""
      ],
      "execution_count": 0,
      "outputs": []
    }
  ]
}