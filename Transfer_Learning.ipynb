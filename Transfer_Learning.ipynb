{
  "nbformat": 4,
  "nbformat_minor": 0,
  "metadata": {
    "kernelspec": {
      "name": "python3",
      "display_name": "Python 3"
    },
    "language_info": {
      "codemirror_mode": {
        "name": "ipython",
        "version": 3
      },
      "file_extension": ".py",
      "mimetype": "text/x-python",
      "name": "python",
      "nbconvert_exporter": "python",
      "pygments_lexer": "ipython3",
      "version": "3.5.5"
    },
    "colab": {
      "name": "Transfer_Learning.ipynb",
      "version": "0.3.2",
      "provenance": [],
      "collapsed_sections": []
    },
    "accelerator": "GPU"
  },
  "cells": [
    {
      "cell_type": "code",
      "metadata": {
        "id": "TqDpDUg3A8ry",
        "colab_type": "code",
        "colab": {
          "base_uri": "https://localhost:8080/",
          "height": 35
        },
        "outputId": "7c22b3b4-dbbc-4d88-d697-cde3ce269a29"
      },
      "source": [
        "import tensorflow as tf\n",
        "import numpy as np\n",
        "import matplotlib.pyplot as plt\n",
        "import os\n",
        "from keras.datasets import cifar10"
      ],
      "execution_count": 1,
      "outputs": [
        {
          "output_type": "stream",
          "text": [
            "Using TensorFlow backend.\n"
          ],
          "name": "stderr"
        }
      ]
    },
    {
      "cell_type": "markdown",
      "metadata": {
        "id": "mMe6Y-YXA8r9",
        "colab_type": "text"
      },
      "source": [
        "# Load Dataset"
      ]
    },
    {
      "cell_type": "code",
      "metadata": {
        "id": "R3MgdWE_A8r-",
        "colab_type": "code",
        "colab": {}
      },
      "source": [
        "train_xs = np.load('./train_caches.npy')\n",
        "test_xs = np.load('./test_caches.npy')\n",
        "(x_train, train_ys), (x_test, test_ys) = cifar10.load_data()\n",
        "n_classes = 10\n",
        "\n",
        "# reshape\n",
        "test_ys = test_ys.reshape(-1)\n",
        "train_ys = train_ys.reshape(-1)"
      ],
      "execution_count": 0,
      "outputs": []
    },
    {
      "cell_type": "markdown",
      "metadata": {
        "id": "6LihWvV0A8sC",
        "colab_type": "text"
      },
      "source": [
        "# Data provider"
      ]
    },
    {
      "cell_type": "code",
      "metadata": {
        "id": "uP7M7uyUA8sE",
        "colab_type": "code",
        "colab": {}
      },
      "source": [
        "import numpy as np\n",
        "import random\n",
        "\n",
        "class DataProvider(object):\n",
        "    def __init__(self, images, labels):\n",
        "        self.n_sample = len(labels)\n",
        "        self.queue = list(range(self.n_sample))\n",
        "        random.shuffle(self.queue)\n",
        "\n",
        "        self.images = images\n",
        "        self.labels = labels\n",
        "        self.epoch_count = 0\n",
        "\n",
        "    def next_batch(self, batch_size):\n",
        "        if len(self.queue) < batch_size:\n",
        "            self.queue = list(range(self.n_sample))\n",
        "            self.epoch_count += 1\n",
        "        target_indices = self.queue[:batch_size]\n",
        "        del self.queue[:batch_size]\n",
        "        return self.images[target_indices], self.labels[target_indices]"
      ],
      "execution_count": 0,
      "outputs": []
    },
    {
      "cell_type": "markdown",
      "metadata": {
        "id": "loTZD0w3A8sH",
        "colab_type": "text"
      },
      "source": [
        "# Modeling"
      ]
    },
    {
      "cell_type": "code",
      "metadata": {
        "id": "tDRhdIZAA8sJ",
        "colab_type": "code",
        "colab": {
          "base_uri": "https://localhost:8080/",
          "height": 108
        },
        "outputId": "ca68895e-953c-468c-d7a6-825c292aa77d"
      },
      "source": [
        "graph = tf.Graph()\n",
        "\n",
        "with graph.as_default() :\n",
        "    xs = tf.placeholder(dtype = tf.float32, shape = [None,2048])\n",
        "    ys = tf.placeholder(dtype = tf.int32 , shape=[None])\n",
        "    lr = tf.placeholder(dtype = tf.float32, shape = [])\n",
        "    \n",
        "    n_units=[1024, 1024]\n",
        "    layer = xs \n",
        "    for ind, units in enumerate(n_units):\n",
        "        with tf.variable_scope('layer_{}'.format(ind)):\n",
        "            layer = tf.layers.Dense(units, tf.nn.relu,\n",
        "                                tf.initializers.he_normal)(layer)\n",
        "    logits = tf.layers.Dense(n_classes)(layer)"
      ],
      "execution_count": 4,
      "outputs": [
        {
          "output_type": "stream",
          "text": [
            "WARNING: Logging before flag parsing goes to stderr.\n",
            "W0718 08:43:58.830440 140625781921664 deprecation.py:506] From /usr/local/lib/python3.6/dist-packages/tensorflow/python/ops/init_ops.py:1251: calling VarianceScaling.__init__ (from tensorflow.python.ops.init_ops) with dtype is deprecated and will be removed in a future version.\n",
            "Instructions for updating:\n",
            "Call initializer instance with the dtype argument instead of passing it to the constructor\n"
          ],
          "name": "stderr"
        }
      ]
    },
    {
      "cell_type": "markdown",
      "metadata": {
        "id": "TZ5tOQK5A8sO",
        "colab_type": "text"
      },
      "source": [
        "# Loss"
      ]
    },
    {
      "cell_type": "code",
      "metadata": {
        "id": "-_eeeLfcA8sP",
        "colab_type": "code",
        "colab": {
          "base_uri": "https://localhost:8080/",
          "height": 90
        },
        "outputId": "504a7cf2-3c28-40a4-d5bb-8d5a503586ca"
      },
      "source": [
        "with graph.as_default() :\n",
        "    loss = tf.losses.sparse_softmax_cross_entropy(ys, logits)\n",
        "    loss = tf.identity(loss, 'loss')"
      ],
      "execution_count": 5,
      "outputs": [
        {
          "output_type": "stream",
          "text": [
            "W0718 08:43:59.131798 140625781921664 deprecation.py:323] From /usr/local/lib/python3.6/dist-packages/tensorflow/python/ops/losses/losses_impl.py:121: add_dispatch_support.<locals>.wrapper (from tensorflow.python.ops.array_ops) is deprecated and will be removed in a future version.\n",
            "Instructions for updating:\n",
            "Use tf.where in 2.0, which has the same broadcast rule as np.where\n"
          ],
          "name": "stderr"
        }
      ]
    },
    {
      "cell_type": "markdown",
      "metadata": {
        "id": "HpD59DyXA8sV",
        "colab_type": "text"
      },
      "source": [
        "# Prediction"
      ]
    },
    {
      "cell_type": "code",
      "metadata": {
        "id": "srdR_d7BA8sW",
        "colab_type": "code",
        "colab": {}
      },
      "source": [
        "with graph.as_default() :\n",
        "    pred = tf.nn.softmax(logits)"
      ],
      "execution_count": 0,
      "outputs": []
    },
    {
      "cell_type": "markdown",
      "metadata": {
        "id": "b5LkTInnA8sc",
        "colab_type": "text"
      },
      "source": [
        "## Metric"
      ]
    },
    {
      "cell_type": "code",
      "metadata": {
        "id": "P7aN-PIJA8sd",
        "colab_type": "code",
        "colab": {}
      },
      "source": [
        "with graph.as_default() :\n",
        "    # metric\n",
        "    logits_cls = tf.argmax(logits, axis=1)\n",
        "    logits_cls = tf.cast(logits_cls, dtype=tf.int32)\n",
        "    acc = tf.reduce_mean(tf.cast(tf.equal(ys, logits_cls),tf.float32),\n",
        "                         name='acc')"
      ],
      "execution_count": 0,
      "outputs": []
    },
    {
      "cell_type": "markdown",
      "metadata": {
        "id": "Zi3pbeRYA8sj",
        "colab_type": "text"
      },
      "source": [
        "## Optimizer"
      ]
    },
    {
      "cell_type": "code",
      "metadata": {
        "id": "fdyf1BQQA8sl",
        "colab_type": "code",
        "colab": {}
      },
      "source": [
        "with graph.as_default() :    \n",
        "    train_op = tf.train.MomentumOptimizer(learning_rate=lr, momentum=0.9).minimize(loss)"
      ],
      "execution_count": 0,
      "outputs": []
    },
    {
      "cell_type": "markdown",
      "metadata": {
        "id": "fWLH4cRxA8sq",
        "colab_type": "text"
      },
      "source": [
        "## Open Session"
      ]
    },
    {
      "cell_type": "code",
      "metadata": {
        "id": "769hZVs5A8ss",
        "colab_type": "code",
        "colab": {}
      },
      "source": [
        "with graph.as_default() :    \n",
        "\n",
        "    sess = tf.Session()\n",
        "    init = tf.group(tf.global_variables_initializer(),\n",
        "                    tf.local_variables_initializer())\n",
        "    # saver \n",
        "    sess.run(init)"
      ],
      "execution_count": 0,
      "outputs": []
    },
    {
      "cell_type": "markdown",
      "metadata": {
        "id": "VMcbbD-zA8sz",
        "colab_type": "text"
      },
      "source": [
        "## Training"
      ]
    },
    {
      "cell_type": "code",
      "metadata": {
        "id": "QLrHhlYkQAYb",
        "colab_type": "code",
        "colab": {}
      },
      "source": [
        "#log list\n",
        "train_loss_ch = []\n",
        "train_acc_ch = []\n",
        "val_loss_ch = []\n",
        "val_acc_ch = []"
      ],
      "execution_count": 0,
      "outputs": []
    },
    {
      "cell_type": "code",
      "metadata": {
        "id": "q672iu0EA8s1",
        "colab_type": "code",
        "colab": {}
      },
      "source": [
        "# hparam \n",
        "batch_size = 100\n",
        "min_loss = 1000000.0\n",
        "learning_rate = 0.0001\n",
        "max_iter = 5000\n",
        "\n",
        "dataprovider = DataProvider(images=train_xs, labels=train_ys)"
      ],
      "execution_count": 0,
      "outputs": []
    },
    {
      "cell_type": "code",
      "metadata": {
        "id": "osFJ_94YA8s6",
        "colab_type": "code",
        "colab": {
          "base_uri": "https://localhost:8080/",
          "height": 906
        },
        "outputId": "271809dc-62eb-423c-eed9-6e1b1b6fc58b"
      },
      "source": [
        "with graph.as_default() :\n",
        "    for i in range(max_iter):\n",
        "        # extract batch_xs, batch_ys\n",
        "        batch_xs, batch_ys = dataprovider.next_batch(batch_size)\n",
        "\n",
        "        # Training \n",
        "        sess.run(train_op, {xs: batch_xs, ys: batch_ys, lr: learning_rate})\n",
        "        \n",
        "        # Validation \n",
        "        if i % 100 == 0 :\n",
        "            # Validate validation dataset \n",
        "            fetches=[loss, acc]\n",
        "            val_loss, val_acc = sess.run(fetches, \n",
        "                                         {xs: test_xs, ys: test_ys})\n",
        "            val_loss_ch.append(val_loss)\n",
        "            val_acc_ch.append(val_acc)\n",
        "\n",
        "            # Validate train dataset : extract randomly 10000 samples from train dataset \n",
        "            batch_xs, batch_ys = dataprovider.next_batch(10000)\n",
        "            train_loss, train_acc = sess.run(fetches,{xs: batch_xs, ys: batch_ys})\n",
        "            train_loss_ch.append(train_loss)\n",
        "            train_acc_ch.append(train_acc)\n",
        "\n",
        "            print('step : {} train loss : {:.4f} acc : {:.4f} | Val loss : {:.4f} acc : {:.4f}'.\\\n",
        "            format(i, train_loss, train_acc, val_loss, val_acc))"
      ],
      "execution_count": 16,
      "outputs": [
        {
          "output_type": "stream",
          "text": [
            "step : 0 train loss : 0.0328 acc : 0.9948 | Val loss : 0.3379 acc : 0.9075\n",
            "step : 100 train loss : 0.0329 acc : 0.9943 | Val loss : 0.3344 acc : 0.9087\n",
            "step : 200 train loss : 0.0254 acc : 0.9967 | Val loss : 0.3344 acc : 0.9084\n",
            "step : 300 train loss : 0.0357 acc : 0.9932 | Val loss : 0.3352 acc : 0.9082\n",
            "step : 400 train loss : 0.0381 acc : 0.9915 | Val loss : 0.3350 acc : 0.9088\n",
            "step : 500 train loss : 0.0262 acc : 0.9967 | Val loss : 0.3356 acc : 0.9088\n",
            "step : 600 train loss : 0.0251 acc : 0.9970 | Val loss : 0.3357 acc : 0.9085\n",
            "step : 700 train loss : 0.0263 acc : 0.9968 | Val loss : 0.3346 acc : 0.9077\n",
            "step : 800 train loss : 0.0346 acc : 0.9936 | Val loss : 0.3355 acc : 0.9086\n",
            "step : 900 train loss : 0.0367 acc : 0.9924 | Val loss : 0.3354 acc : 0.9087\n",
            "step : 1000 train loss : 0.0256 acc : 0.9970 | Val loss : 0.3359 acc : 0.9086\n",
            "step : 1100 train loss : 0.0250 acc : 0.9970 | Val loss : 0.3361 acc : 0.9081\n",
            "step : 1200 train loss : 0.0266 acc : 0.9969 | Val loss : 0.3351 acc : 0.9083\n",
            "step : 1300 train loss : 0.0340 acc : 0.9940 | Val loss : 0.3359 acc : 0.9085\n",
            "step : 1400 train loss : 0.0358 acc : 0.9926 | Val loss : 0.3358 acc : 0.9089\n",
            "step : 1500 train loss : 0.0253 acc : 0.9971 | Val loss : 0.3363 acc : 0.9083\n",
            "step : 1600 train loss : 0.0250 acc : 0.9971 | Val loss : 0.3364 acc : 0.9080\n",
            "step : 1700 train loss : 0.0267 acc : 0.9969 | Val loss : 0.3355 acc : 0.9081\n",
            "step : 1800 train loss : 0.0334 acc : 0.9942 | Val loss : 0.3363 acc : 0.9087\n",
            "step : 1900 train loss : 0.0352 acc : 0.9926 | Val loss : 0.3362 acc : 0.9089\n",
            "step : 2000 train loss : 0.0250 acc : 0.9974 | Val loss : 0.3366 acc : 0.9090\n",
            "step : 2100 train loss : 0.0250 acc : 0.9972 | Val loss : 0.3368 acc : 0.9082\n",
            "step : 2200 train loss : 0.0268 acc : 0.9968 | Val loss : 0.3358 acc : 0.9084\n",
            "step : 2300 train loss : 0.0330 acc : 0.9945 | Val loss : 0.3367 acc : 0.9089\n",
            "step : 2400 train loss : 0.0347 acc : 0.9926 | Val loss : 0.3366 acc : 0.9089\n",
            "step : 2500 train loss : 0.0248 acc : 0.9976 | Val loss : 0.3370 acc : 0.9091\n",
            "step : 2600 train loss : 0.0249 acc : 0.9972 | Val loss : 0.3371 acc : 0.9083\n",
            "step : 2700 train loss : 0.0268 acc : 0.9968 | Val loss : 0.3362 acc : 0.9084\n",
            "step : 2800 train loss : 0.0327 acc : 0.9947 | Val loss : 0.3370 acc : 0.9089\n",
            "step : 2900 train loss : 0.0342 acc : 0.9927 | Val loss : 0.3369 acc : 0.9090\n",
            "step : 3000 train loss : 0.0246 acc : 0.9976 | Val loss : 0.3372 acc : 0.9092\n",
            "step : 3100 train loss : 0.0249 acc : 0.9972 | Val loss : 0.3374 acc : 0.9083\n",
            "step : 3200 train loss : 0.0268 acc : 0.9967 | Val loss : 0.3365 acc : 0.9085\n",
            "step : 3300 train loss : 0.0323 acc : 0.9948 | Val loss : 0.3373 acc : 0.9088\n",
            "step : 3400 train loss : 0.0339 acc : 0.9930 | Val loss : 0.3371 acc : 0.9088\n",
            "step : 3500 train loss : 0.0245 acc : 0.9976 | Val loss : 0.3375 acc : 0.9092\n",
            "step : 3600 train loss : 0.0248 acc : 0.9972 | Val loss : 0.3377 acc : 0.9081\n",
            "step : 3700 train loss : 0.0267 acc : 0.9967 | Val loss : 0.3367 acc : 0.9085\n",
            "step : 3800 train loss : 0.0321 acc : 0.9949 | Val loss : 0.3376 acc : 0.9085\n",
            "step : 3900 train loss : 0.0335 acc : 0.9931 | Val loss : 0.3374 acc : 0.9087\n",
            "step : 4000 train loss : 0.0243 acc : 0.9976 | Val loss : 0.3377 acc : 0.9094\n",
            "step : 4100 train loss : 0.0247 acc : 0.9972 | Val loss : 0.3379 acc : 0.9082\n",
            "step : 4200 train loss : 0.0266 acc : 0.9967 | Val loss : 0.3370 acc : 0.9087\n",
            "step : 4300 train loss : 0.0318 acc : 0.9951 | Val loss : 0.3378 acc : 0.9085\n",
            "step : 4400 train loss : 0.0332 acc : 0.9932 | Val loss : 0.3376 acc : 0.9088\n",
            "step : 4500 train loss : 0.0242 acc : 0.9976 | Val loss : 0.3380 acc : 0.9094\n",
            "step : 4600 train loss : 0.0246 acc : 0.9973 | Val loss : 0.3381 acc : 0.9084\n",
            "step : 4700 train loss : 0.0266 acc : 0.9967 | Val loss : 0.3372 acc : 0.9089\n",
            "step : 4800 train loss : 0.0315 acc : 0.9951 | Val loss : 0.3381 acc : 0.9085\n",
            "step : 4900 train loss : 0.0330 acc : 0.9932 | Val loss : 0.3379 acc : 0.9089\n"
          ],
          "name": "stdout"
        }
      ]
    },
    {
      "cell_type": "code",
      "metadata": {
        "id": "fOIDTVgXA8tB",
        "colab_type": "code",
        "colab": {
          "base_uri": "https://localhost:8080/",
          "height": 299
        },
        "outputId": "4381657d-9ebe-4700-b822-b7d376938e23"
      },
      "source": [
        "plt.title(\"Loss comparison Inception-V3 transfer learning on cifar10\")\n",
        "plt.plot(train_loss_ch, 'r--', label = 'train_loss')\n",
        "plt.plot(val_loss_ch, 'b--', label = 'validation_loss')\n",
        "plt.legend()"
      ],
      "execution_count": 38,
      "outputs": [
        {
          "output_type": "execute_result",
          "data": {
            "text/plain": [
              "<matplotlib.legend.Legend at 0x7fe5371fa710>"
            ]
          },
          "metadata": {
            "tags": []
          },
          "execution_count": 38
        },
        {
          "output_type": "display_data",
          "data": {
            "image/png": "[encoded data removed]",
            "text/plain": [
              "<Figure size 432x288 with 1 Axes>"
            ]
          },
          "metadata": {
            "tags": []
          }
        }
      ]
    },
    {
      "cell_type": "code",
      "metadata": {
        "id": "g7a9SqHDQhKY",
        "colab_type": "code",
        "colab": {
          "base_uri": "https://localhost:8080/",
          "height": 299
        },
        "outputId": "9f63db00-bac7-4eb2-e777-510c309979c8"
      },
      "source": [
        "plt.title(\"Acc comparison Inception-V3 transfer learning on cifar10\")\n",
        "plt.plot(train_acc_ch, 'r--', label = 'train_acc')\n",
        "plt.plot(val_acc_ch, 'b--', label = 'validation_acc')\n",
        "plt.legend()"
      ],
      "execution_count": 39,
      "outputs": [
        {
          "output_type": "execute_result",
          "data": {
            "text/plain": [
              "<matplotlib.legend.Legend at 0x7fe53715c9e8>"
            ]
          },
          "metadata": {
            "tags": []
          },
          "execution_count": 39
        },
        {
          "output_type": "display_data",
          "data": {
            "image/png": "[encoded data removed]",
            "text/plain": [
              "<Figure size 432x288 with 1 Axes>"
            ]
          },
          "metadata": {
            "tags": []
          }
        }
      ]
    },
    {
      "cell_type": "code",
      "metadata": {
        "id": "4BgvHRAXfkZK",
        "colab_type": "code",
        "colab": {}
      },
      "source": [
        ""
      ],
      "execution_count": 0,
      "outputs": []
    }
  ]
}